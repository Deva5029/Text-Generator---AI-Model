{
 "cells": [
  {
   "cell_type": "code",
   "execution_count": null,
   "id": "f1dab6c1",
   "metadata": {},
   "outputs": [],
   "source": [
    "def test_print_sorted_lists():\n",
    "    # Test case 1: Both input lists are empty\n",
    "    sorted_by_similarity = []\n",
    "    sorted_by_vocabulary = []\n",
    "    print_sorted_lists(sorted_by_similarity, sorted_by_vocabulary) # No output should be printed\n",
    "    assert final_list == []\n",
    "\n",
    "    # Test case 2: One input list is empty, the other is not\n",
    "    sorted_by_similarity = [\"Hello world\", \"This is a test\"]\n",
    "    sorted_by_vocabulary = []\n",
    "    print_sorted_lists(sorted_by_similarity, sorted_by_vocabulary) # Should print \"Hello world\" and \"This is a test\"\n",
    "    assert final_list == [\"Hello world\", \"This is a test\"]\n",
    "\n",
    "    # Test case 3: Both input lists have the same elements\n",
    "    sorted_by_similarity = [\"Apple\", \"Banana\", \"Cherry\"]\n",
    "    sorted_by_vocabulary = [\"Apple\", \"Banana\", \"Cherry\"]\n",
    "    print_sorted_lists(sorted_by_similarity, sorted_by_vocabulary) # Should print \"Apple\", \"Banana\", \"Cherry\"\n",
    "    assert final_list == [\"Apple\", \"Banana\", \"Cherry\"]"
   ]
  }
 ],
 "metadata": {
  "kernelspec": {
   "display_name": "Python 3 (ipykernel)",
   "language": "python",
   "name": "python3"
  },
  "language_info": {
   "codemirror_mode": {
    "name": "ipython",
    "version": 3
   },
   "file_extension": ".py",
   "mimetype": "text/x-python",
   "name": "python",
   "nbconvert_exporter": "python",
   "pygments_lexer": "ipython3",
   "version": "3.11.0"
  }
 },
 "nbformat": 4,
 "nbformat_minor": 5
}
