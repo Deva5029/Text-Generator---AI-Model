{
 "cells": [
  {
   "cell_type": "code",
   "execution_count": 1,
   "id": "94ac8f15",
   "metadata": {},
   "outputs": [],
   "source": [
    "def print_sorted_lists(sorted_similar, sorted_vocab):\n",
    "\n",
    "    \"\"\" \n",
    "\n",
    "Prints and returns a list of sentences with sentences with high vocabulary scores coming first, then sentences with comparable context, in that sequence. In the final list, all duplications are eliminated.\n",
    "\n",
    "Args: - sorted_similar: A list of sentences arranged in descending order according to the contextual similarity score.\n",
    "      - sorted_vocab: A list of phrases arranged in descending order by vocabulary score.\n",
    "\n",
    "Returns: - final_list: A list of sentences arranged with high vocabulary score first and contextual similarity second. In the final list, all duplications are eliminated.\n",
    "\n",
    "    \"\"\"\n",
    "\n",
    "    # Initialize an empty list to store the final sorted sentences\n",
    "    final_list = []  \n",
    "\n",
    "    # Iterate over the sentences in the sorted_similar list\n",
    "    for sentence in sorted_similar:\n",
    "\n",
    "        # Check if the sentence is present in sorted_vocab and not already in final_list\n",
    "        if sentence in sorted_vocab and sentence not in final_list:\n",
    "\n",
    "            # Add the sentence to final_list\n",
    "            final_list.append(sentence)  \n",
    "\n",
    "            # Remove the sentence from sorted_vocab to avoid duplicates\n",
    "            sorted_vocab.remove(sentence)  \n",
    "        \n",
    "        # If the sentence is not already in final_list, add it to final_list\n",
    "        elif sentence not in final_list:\n",
    "            final_list.append(sentence)\n",
    "    \n",
    "    # Iterate over the remaining sentences in sorted_vocab\n",
    "    for sentence in sorted_vocab:\n",
    "\n",
    "        # If the sentence is not already in final_list, add it to final_list\n",
    "        if sentence not in final_list:\n",
    "            final_list.append(sentence)\n",
    "    \n",
    "    # Return the final sorted list of sentences\n",
    "    return final_list  \n"
   ]
  },
  {
   "cell_type": "code",
   "execution_count": 22,
   "id": "04ded22e",
   "metadata": {},
   "outputs": [],
   "source": []
  },
  {
   "cell_type": "code",
   "execution_count": null,
   "id": "37ac57d3",
   "metadata": {},
   "outputs": [],
   "source": []
  },
  {
   "cell_type": "code",
   "execution_count": null,
   "id": "6622b743",
   "metadata": {},
   "outputs": [],
   "source": []
  }
 ],
 "metadata": {
  "kernelspec": {
   "display_name": "Python 3",
   "language": "python",
   "name": "python3"
  },
  "language_info": {
   "codemirror_mode": {
    "name": "ipython",
    "version": 3
   },
   "file_extension": ".py",
   "mimetype": "text/x-python",
   "name": "python",
   "nbconvert_exporter": "python",
   "pygments_lexer": "ipython3",
   "version": "3.11.0"
  },
  "vscode": {
   "interpreter": {
    "hash": "aee8b7b246df8f9039afb4144a1f6fd8d2ca17a180786b69acc140d282b71a49"
   }
  }
 },
 "nbformat": 4,
 "nbformat_minor": 5
}
